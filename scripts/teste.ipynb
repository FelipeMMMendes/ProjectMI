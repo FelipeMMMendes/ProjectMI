{
 "cells": [
  {
   "cell_type": "code",
   "execution_count": 5,
   "metadata": {},
   "outputs": [
    {
     "name": "stdout",
     "output_type": "stream",
     "text": [
      "Acurácia do modelo: 0.9\n"
     ]
    },
    {
     "data": {
      "image/png": "[encoded data removed]",
      "text/plain": [
       "<Figure size 640x480 with 1 Axes>"
      ]
     },
     "metadata": {},
     "output_type": "display_data"
    }
   ],
   "source": [
    "import numpy as np\n",
    "import matplotlib.pyplot as plt\n",
    "from sklearn.linear_model import LogisticRegression\n",
    "from sklearn.model_selection import train_test_split, ValidationCurveDisplay\n",
    "from sklearn import metrics\n",
    "\n",
    "# Gere dados de exemplo\n",
    "np.random.seed(42)\n",
    "X = np.random.rand(100, 1)  # Recurso de entrada\n",
    "y = (X.flatten() + 0.2 * np.random.randn(100)) > 0.5  # Variável de saída binária\n",
    "\n",
    "# Divida os dados em conjuntos de treinamento e teste\n",
    "X_train, X_test, y_train, y_test = train_test_split(X, y, test_size=0.2, random_state=42)\n",
    "\n",
    "# Crie e ajuste o modelo de regressão logística\n",
    "model = LogisticRegression()\n",
    "model.fit(X_train, y_train)\n",
    "\n",
    "# Faça previsões no conjunto de teste\n",
    "y_pred = model.predict(X_test)\n",
    "\n",
    "# Avalie o desempenho do modelo\n",
    "accuracy = metrics.accuracy_score(y_test, y_pred)\n",
    "print(f'Acurácia do modelo: {accuracy}')\n",
    "\n",
    "# Crie um gráfico comparando as previsões com os resultados reais\n",
    "plt.scatter(X_test, y_test, color='black', label='Real')\n",
    "plt.scatter(X_test, y_pred, color='red', marker='x', label='Previsto')\n",
    "plt.xlabel('X_test')\n",
    "plt.ylabel('Resultado')\n",
    "plt.legend()\n",
    "plt.title('Comparação entre Real e Previsto')\n",
    "plt.show()\n"
   ]
  },
  {
   "cell_type": "code",
   "execution_count": 6,
   "metadata": {},
   "outputs": [
    {
     "name": "stdout",
     "output_type": "stream",
     "text": [
      "(80, 1) (20, 1) (80,) (20,)\n"
     ]
    },
    {
     "data": {
      "text/plain": [
       "numpy.ndarray"
      ]
     },
     "execution_count": 6,
     "metadata": {},
     "output_type": "execute_result"
    }
   ],
   "source": [
    "print(X_train.shape, X_test.shape, y_train.shape, y_test.shape)\n",
    "\n",
    "type(X_train)"
   ]
  },
  {
   "cell_type": "code",
   "execution_count": 4,
   "metadata": {},
   "outputs": [
    {
     "data": {
      "text/plain": [
       "array([[0.37454012],\n",
       "       [0.95071431],\n",
       "       [0.73199394],\n",
       "       [0.59865848],\n",
       "       [0.15601864],\n",
       "       [0.15599452],\n",
       "       [0.05808361],\n",
       "       [0.86617615],\n",
       "       [0.60111501],\n",
       "       [0.70807258],\n",
       "       [0.02058449],\n",
       "       [0.96990985],\n",
       "       [0.83244264],\n",
       "       [0.21233911],\n",
       "       [0.18182497],\n",
       "       [0.18340451],\n",
       "       [0.30424224],\n",
       "       [0.52475643],\n",
       "       [0.43194502],\n",
       "       [0.29122914],\n",
       "       [0.61185289],\n",
       "       [0.13949386],\n",
       "       [0.29214465],\n",
       "       [0.36636184],\n",
       "       [0.45606998],\n",
       "       [0.78517596],\n",
       "       [0.19967378],\n",
       "       [0.51423444],\n",
       "       [0.59241457],\n",
       "       [0.04645041],\n",
       "       [0.60754485],\n",
       "       [0.17052412],\n",
       "       [0.06505159],\n",
       "       [0.94888554],\n",
       "       [0.96563203],\n",
       "       [0.80839735],\n",
       "       [0.30461377],\n",
       "       [0.09767211],\n",
       "       [0.68423303],\n",
       "       [0.44015249],\n",
       "       [0.12203823],\n",
       "       [0.49517691],\n",
       "       [0.03438852],\n",
       "       [0.9093204 ],\n",
       "       [0.25877998],\n",
       "       [0.66252228],\n",
       "       [0.31171108],\n",
       "       [0.52006802],\n",
       "       [0.54671028],\n",
       "       [0.18485446],\n",
       "       [0.96958463],\n",
       "       [0.77513282],\n",
       "       [0.93949894],\n",
       "       [0.89482735],\n",
       "       [0.59789998],\n",
       "       [0.92187424],\n",
       "       [0.0884925 ],\n",
       "       [0.19598286],\n",
       "       [0.04522729],\n",
       "       [0.32533033],\n",
       "       [0.38867729],\n",
       "       [0.27134903],\n",
       "       [0.82873751],\n",
       "       [0.35675333],\n",
       "       [0.28093451],\n",
       "       [0.54269608],\n",
       "       [0.14092422],\n",
       "       [0.80219698],\n",
       "       [0.07455064],\n",
       "       [0.98688694],\n",
       "       [0.77224477],\n",
       "       [0.19871568],\n",
       "       [0.00552212],\n",
       "       [0.81546143],\n",
       "       [0.70685734],\n",
       "       [0.72900717],\n",
       "       [0.77127035],\n",
       "       [0.07404465],\n",
       "       [0.35846573],\n",
       "       [0.11586906],\n",
       "       [0.86310343],\n",
       "       [0.62329813],\n",
       "       [0.33089802],\n",
       "       [0.06355835],\n",
       "       [0.31098232],\n",
       "       [0.32518332],\n",
       "       [0.72960618],\n",
       "       [0.63755747],\n",
       "       [0.88721274],\n",
       "       [0.47221493],\n",
       "       [0.11959425],\n",
       "       [0.71324479],\n",
       "       [0.76078505],\n",
       "       [0.5612772 ],\n",
       "       [0.77096718],\n",
       "       [0.4937956 ],\n",
       "       [0.52273283],\n",
       "       [0.42754102],\n",
       "       [0.02541913],\n",
       "       [0.10789143]])"
      ]
     },
     "execution_count": 4,
     "metadata": {},
     "output_type": "execute_result"
    }
   ],
   "source": [
    "X"
   ]
  }
 ],
 "metadata": {
  "kernelspec": {
   "display_name": "Python 3",
   "language": "python",
   "name": "python3"
  },
  "language_info": {
   "codemirror_mode": {
    "name": "ipython",
    "version": 3
   },
   "file_extension": ".py",
   "mimetype": "text/x-python",
   "name": "python",
   "nbconvert_exporter": "python",
   "pygments_lexer": "ipython3",
   "version": "3.11.6"
  }
 },
 "nbformat": 4,
 "nbformat_minor": 2
}
