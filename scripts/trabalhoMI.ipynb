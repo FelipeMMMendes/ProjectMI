{
 "cells": [
  {
   "cell_type": "markdown",
   "metadata": {},
   "source": [
    "# Trabalho de Mineração de Dados\n",
    "Alunos:\n",
    "- Felipe Martins\n",
    "- Caio Righetto"
   ]
  },
  {
   "cell_type": "markdown",
   "metadata": {},
   "source": [
    "### Processamento dos dados"
   ]
  },
  {
   "cell_type": "code",
   "execution_count": 1,
   "metadata": {},
   "outputs": [],
   "source": [
    "#fazendo os imports necessarios\n",
    "import pandas as pd\n",
    "import matplotlib.pyplot as plt\n",
    "import numpy as np\n",
    "import seaborn as sns"
   ]
  },
  {
   "cell_type": "code",
   "execution_count": 2,
   "metadata": {},
   "outputs": [],
   "source": [
    "df_raw = pd.read_csv(\"..\\data\\smoking_driking_dataset_Ver01.csv\")"
   ]
  },
  {
   "cell_type": "code",
   "execution_count": 3,
   "metadata": {},
   "outputs": [
    {
     "data": {
      "text/html": [
       "<div>\n",
       "<style scoped>\n",
       "    .dataframe tbody tr th:only-of-type {\n",
       "        vertical-align: middle;\n",
       "    }\n",
       "\n",
       "    .dataframe tbody tr th {\n",
       "        vertical-align: top;\n",
       "    }\n",
       "\n",
       "    .dataframe thead th {\n",
       "        text-align: right;\n",
       "    }\n",
       "</style>\n",
       "<table border=\"1\" class=\"dataframe\">\n",
       "  <thead>\n",
       "    <tr style=\"text-align: right;\">\n",
       "      <th></th>\n",
       "      <th>sex</th>\n",
       "      <th>age</th>\n",
       "      <th>height</th>\n",
       "      <th>weight</th>\n",
       "      <th>waistline</th>\n",
       "      <th>sight_left</th>\n",
       "      <th>sight_right</th>\n",
       "      <th>hear_left</th>\n",
       "      <th>hear_right</th>\n",
       "      <th>SBP</th>\n",
       "      <th>...</th>\n",
       "      <th>LDL_chole</th>\n",
       "      <th>triglyceride</th>\n",
       "      <th>hemoglobin</th>\n",
       "      <th>urine_protein</th>\n",
       "      <th>serum_creatinine</th>\n",
       "      <th>SGOT_AST</th>\n",
       "      <th>SGOT_ALT</th>\n",
       "      <th>gamma_GTP</th>\n",
       "      <th>SMK_stat_type_cd</th>\n",
       "      <th>DRK_YN</th>\n",
       "    </tr>\n",
       "  </thead>\n",
       "  <tbody>\n",
       "    <tr>\n",
       "      <th>0</th>\n",
       "      <td>Male</td>\n",
       "      <td>35</td>\n",
       "      <td>170</td>\n",
       "      <td>75</td>\n",
       "      <td>90.0</td>\n",
       "      <td>1.0</td>\n",
       "      <td>1.0</td>\n",
       "      <td>1.0</td>\n",
       "      <td>1.0</td>\n",
       "      <td>120.0</td>\n",
       "      <td>...</td>\n",
       "      <td>126.0</td>\n",
       "      <td>92.0</td>\n",
       "      <td>17.1</td>\n",
       "      <td>1.0</td>\n",
       "      <td>1.0</td>\n",
       "      <td>21.0</td>\n",
       "      <td>35.0</td>\n",
       "      <td>40.0</td>\n",
       "      <td>1.0</td>\n",
       "      <td>Y</td>\n",
       "    </tr>\n",
       "    <tr>\n",
       "      <th>1</th>\n",
       "      <td>Male</td>\n",
       "      <td>30</td>\n",
       "      <td>180</td>\n",
       "      <td>80</td>\n",
       "      <td>89.0</td>\n",
       "      <td>0.9</td>\n",
       "      <td>1.2</td>\n",
       "      <td>1.0</td>\n",
       "      <td>1.0</td>\n",
       "      <td>130.0</td>\n",
       "      <td>...</td>\n",
       "      <td>148.0</td>\n",
       "      <td>121.0</td>\n",
       "      <td>15.8</td>\n",
       "      <td>1.0</td>\n",
       "      <td>0.9</td>\n",
       "      <td>20.0</td>\n",
       "      <td>36.0</td>\n",
       "      <td>27.0</td>\n",
       "      <td>3.0</td>\n",
       "      <td>N</td>\n",
       "    </tr>\n",
       "    <tr>\n",
       "      <th>2</th>\n",
       "      <td>Male</td>\n",
       "      <td>40</td>\n",
       "      <td>165</td>\n",
       "      <td>75</td>\n",
       "      <td>91.0</td>\n",
       "      <td>1.2</td>\n",
       "      <td>1.5</td>\n",
       "      <td>1.0</td>\n",
       "      <td>1.0</td>\n",
       "      <td>120.0</td>\n",
       "      <td>...</td>\n",
       "      <td>74.0</td>\n",
       "      <td>104.0</td>\n",
       "      <td>15.8</td>\n",
       "      <td>1.0</td>\n",
       "      <td>0.9</td>\n",
       "      <td>47.0</td>\n",
       "      <td>32.0</td>\n",
       "      <td>68.0</td>\n",
       "      <td>1.0</td>\n",
       "      <td>N</td>\n",
       "    </tr>\n",
       "    <tr>\n",
       "      <th>3</th>\n",
       "      <td>Male</td>\n",
       "      <td>50</td>\n",
       "      <td>175</td>\n",
       "      <td>80</td>\n",
       "      <td>91.0</td>\n",
       "      <td>1.5</td>\n",
       "      <td>1.2</td>\n",
       "      <td>1.0</td>\n",
       "      <td>1.0</td>\n",
       "      <td>145.0</td>\n",
       "      <td>...</td>\n",
       "      <td>104.0</td>\n",
       "      <td>106.0</td>\n",
       "      <td>17.6</td>\n",
       "      <td>1.0</td>\n",
       "      <td>1.1</td>\n",
       "      <td>29.0</td>\n",
       "      <td>34.0</td>\n",
       "      <td>18.0</td>\n",
       "      <td>1.0</td>\n",
       "      <td>N</td>\n",
       "    </tr>\n",
       "    <tr>\n",
       "      <th>4</th>\n",
       "      <td>Male</td>\n",
       "      <td>50</td>\n",
       "      <td>165</td>\n",
       "      <td>60</td>\n",
       "      <td>80.0</td>\n",
       "      <td>1.0</td>\n",
       "      <td>1.2</td>\n",
       "      <td>1.0</td>\n",
       "      <td>1.0</td>\n",
       "      <td>138.0</td>\n",
       "      <td>...</td>\n",
       "      <td>117.0</td>\n",
       "      <td>104.0</td>\n",
       "      <td>13.8</td>\n",
       "      <td>1.0</td>\n",
       "      <td>0.8</td>\n",
       "      <td>19.0</td>\n",
       "      <td>12.0</td>\n",
       "      <td>25.0</td>\n",
       "      <td>1.0</td>\n",
       "      <td>N</td>\n",
       "    </tr>\n",
       "  </tbody>\n",
       "</table>\n",
       "<p>5 rows × 24 columns</p>\n",
       "</div>"
      ],
      "text/plain": [
       "    sex  age  height  weight  waistline  sight_left  sight_right  hear_left  \\\n",
       "0  Male   35     170      75       90.0         1.0          1.0        1.0   \n",
       "1  Male   30     180      80       89.0         0.9          1.2        1.0   \n",
       "2  Male   40     165      75       91.0         1.2          1.5        1.0   \n",
       "3  Male   50     175      80       91.0         1.5          1.2        1.0   \n",
       "4  Male   50     165      60       80.0         1.0          1.2        1.0   \n",
       "\n",
       "   hear_right    SBP  ...  LDL_chole  triglyceride  hemoglobin  urine_protein  \\\n",
       "0         1.0  120.0  ...      126.0          92.0        17.1            1.0   \n",
       "1         1.0  130.0  ...      148.0         121.0        15.8            1.0   \n",
       "2         1.0  120.0  ...       74.0         104.0        15.8            1.0   \n",
       "3         1.0  145.0  ...      104.0         106.0        17.6            1.0   \n",
       "4         1.0  138.0  ...      117.0         104.0        13.8            1.0   \n",
       "\n",
       "   serum_creatinine  SGOT_AST  SGOT_ALT  gamma_GTP  SMK_stat_type_cd  DRK_YN  \n",
       "0               1.0      21.0      35.0       40.0               1.0       Y  \n",
       "1               0.9      20.0      36.0       27.0               3.0       N  \n",
       "2               0.9      47.0      32.0       68.0               1.0       N  \n",
       "3               1.1      29.0      34.0       18.0               1.0       N  \n",
       "4               0.8      19.0      12.0       25.0               1.0       N  \n",
       "\n",
       "[5 rows x 24 columns]"
      ]
     },
     "execution_count": 3,
     "metadata": {},
     "output_type": "execute_result"
    }
   ],
   "source": [
    "df_raw.head()"
   ]
  },
  {
   "cell_type": "code",
   "execution_count": 4,
   "metadata": {},
   "outputs": [
    {
     "name": "stdout",
     "output_type": "stream",
     "text": [
      "<class 'pandas.core.frame.DataFrame'>\n",
      "RangeIndex: 991346 entries, 0 to 991345\n",
      "Data columns (total 24 columns):\n",
      " #   Column            Non-Null Count   Dtype  \n",
      "---  ------            --------------   -----  \n",
      " 0   sex               991346 non-null  object \n",
      " 1   age               991346 non-null  int64  \n",
      " 2   height            991346 non-null  int64  \n",
      " 3   weight            991346 non-null  int64  \n",
      " 4   waistline         991346 non-null  float64\n",
      " 5   sight_left        991346 non-null  float64\n",
      " 6   sight_right       991346 non-null  float64\n",
      " 7   hear_left         991346 non-null  float64\n",
      " 8   hear_right        991346 non-null  float64\n",
      " 9   SBP               991346 non-null  float64\n",
      " 10  DBP               991346 non-null  float64\n",
      " 11  BLDS              991346 non-null  float64\n",
      " 12  tot_chole         991346 non-null  float64\n",
      " 13  HDL_chole         991346 non-null  float64\n",
      " 14  LDL_chole         991346 non-null  float64\n",
      " 15  triglyceride      991346 non-null  float64\n",
      " 16  hemoglobin        991346 non-null  float64\n",
      " 17  urine_protein     991346 non-null  float64\n",
      " 18  serum_creatinine  991346 non-null  float64\n",
      " 19  SGOT_AST          991346 non-null  float64\n",
      " 20  SGOT_ALT          991346 non-null  float64\n",
      " 21  gamma_GTP         991346 non-null  float64\n",
      " 22  SMK_stat_type_cd  991346 non-null  float64\n",
      " 23  DRK_YN            991346 non-null  object \n",
      "dtypes: float64(19), int64(3), object(2)\n",
      "memory usage: 181.5+ MB\n"
     ]
    }
   ],
   "source": [
    "df_raw.info()"
   ]
  },
  {
   "cell_type": "code",
   "execution_count": 5,
   "metadata": {},
   "outputs": [
    {
     "data": {
      "text/plain": [
       "sex\n",
       "Male      526415\n",
       "Female    464931\n",
       "Name: count, dtype: int64"
      ]
     },
     "execution_count": 5,
     "metadata": {},
     "output_type": "execute_result"
    }
   ],
   "source": [
    "df_raw['sex'].value_counts()"
   ]
  },
  {
   "cell_type": "code",
   "execution_count": 6,
   "metadata": {},
   "outputs": [
    {
     "data": {
      "text/plain": [
       "168.54611855665206"
      ]
     },
     "execution_count": 6,
     "metadata": {},
     "output_type": "execute_result"
    }
   ],
   "source": [
    "mediaAlturaM = df_raw[df_raw['sex'] == 'Male']['height'].mean()\n",
    "\n",
    "mediaAlturaM"
   ]
  },
  {
   "cell_type": "code",
   "execution_count": 7,
   "metadata": {},
   "outputs": [
    {
     "data": {
      "text/plain": [
       "155.10127309213624"
      ]
     },
     "execution_count": 7,
     "metadata": {},
     "output_type": "execute_result"
    }
   ],
   "source": [
    "mediaAlturaF = df_raw[df_raw['sex'] == 'Female']['height'].mean()\n",
    "\n",
    "mediaAlturaF"
   ]
  },
  {
   "cell_type": "code",
   "execution_count": 9,
   "metadata": {},
   "outputs": [],
   "source": [
    "#vamos normalizar a coluna sexo, fazendo com que Male = 1 e Female = 0\n",
    "df_normalized = df_raw\n",
    "\n",
    "df_normalized['sex'] = df_normalized['sex'].map({'Male': 1, 'Female': 0})"
   ]
  },
  {
   "cell_type": "code",
   "execution_count": 10,
   "metadata": {},
   "outputs": [],
   "source": [
    "#vamos normalizar a coluna DRK_YN, fazendo com que Y = 1 e N = 0\n",
    "df_normalized['DRK_YN'] = df_normalized['DRK_YN'].map({'Y': 1, 'N': 0})"
   ]
  },
  {
   "cell_type": "code",
   "execution_count": 11,
   "metadata": {},
   "outputs": [],
   "source": [
    "#vamos normalizar tambem a coluna SMK_stat_type_cd, fazendo com que 1 vire 0 e 2 e 3 virem 1\n",
    "df_normalized['SMK_stat_type_cd'] = df_normalized['SMK_stat_type_cd'].map({1: 0, 2: 1, 3:1})"
   ]
  },
  {
   "cell_type": "code",
   "execution_count": 12,
   "metadata": {},
   "outputs": [
    {
     "data": {
      "text/html": [
       "<div>\n",
       "<style scoped>\n",
       "    .dataframe tbody tr th:only-of-type {\n",
       "        vertical-align: middle;\n",
       "    }\n",
       "\n",
       "    .dataframe tbody tr th {\n",
       "        vertical-align: top;\n",
       "    }\n",
       "\n",
       "    .dataframe thead th {\n",
       "        text-align: right;\n",
       "    }\n",
       "</style>\n",
       "<table border=\"1\" class=\"dataframe\">\n",
       "  <thead>\n",
       "    <tr style=\"text-align: right;\">\n",
       "      <th></th>\n",
       "      <th>sex</th>\n",
       "      <th>age</th>\n",
       "      <th>height</th>\n",
       "      <th>weight</th>\n",
       "      <th>waistline</th>\n",
       "      <th>sight_left</th>\n",
       "      <th>sight_right</th>\n",
       "      <th>hear_left</th>\n",
       "      <th>hear_right</th>\n",
       "      <th>SBP</th>\n",
       "      <th>...</th>\n",
       "      <th>LDL_chole</th>\n",
       "      <th>triglyceride</th>\n",
       "      <th>hemoglobin</th>\n",
       "      <th>urine_protein</th>\n",
       "      <th>serum_creatinine</th>\n",
       "      <th>SGOT_AST</th>\n",
       "      <th>SGOT_ALT</th>\n",
       "      <th>gamma_GTP</th>\n",
       "      <th>SMK_stat_type_cd</th>\n",
       "      <th>DRK_YN</th>\n",
       "    </tr>\n",
       "  </thead>\n",
       "  <tbody>\n",
       "    <tr>\n",
       "      <th>0</th>\n",
       "      <td>1</td>\n",
       "      <td>35</td>\n",
       "      <td>170</td>\n",
       "      <td>75</td>\n",
       "      <td>90.0</td>\n",
       "      <td>1.0</td>\n",
       "      <td>1.0</td>\n",
       "      <td>1.0</td>\n",
       "      <td>1.0</td>\n",
       "      <td>120.0</td>\n",
       "      <td>...</td>\n",
       "      <td>126.0</td>\n",
       "      <td>92.0</td>\n",
       "      <td>17.1</td>\n",
       "      <td>1.0</td>\n",
       "      <td>1.0</td>\n",
       "      <td>21.0</td>\n",
       "      <td>35.0</td>\n",
       "      <td>40.0</td>\n",
       "      <td>0</td>\n",
       "      <td>1</td>\n",
       "    </tr>\n",
       "    <tr>\n",
       "      <th>1</th>\n",
       "      <td>1</td>\n",
       "      <td>30</td>\n",
       "      <td>180</td>\n",
       "      <td>80</td>\n",
       "      <td>89.0</td>\n",
       "      <td>0.9</td>\n",
       "      <td>1.2</td>\n",
       "      <td>1.0</td>\n",
       "      <td>1.0</td>\n",
       "      <td>130.0</td>\n",
       "      <td>...</td>\n",
       "      <td>148.0</td>\n",
       "      <td>121.0</td>\n",
       "      <td>15.8</td>\n",
       "      <td>1.0</td>\n",
       "      <td>0.9</td>\n",
       "      <td>20.0</td>\n",
       "      <td>36.0</td>\n",
       "      <td>27.0</td>\n",
       "      <td>1</td>\n",
       "      <td>0</td>\n",
       "    </tr>\n",
       "    <tr>\n",
       "      <th>2</th>\n",
       "      <td>1</td>\n",
       "      <td>40</td>\n",
       "      <td>165</td>\n",
       "      <td>75</td>\n",
       "      <td>91.0</td>\n",
       "      <td>1.2</td>\n",
       "      <td>1.5</td>\n",
       "      <td>1.0</td>\n",
       "      <td>1.0</td>\n",
       "      <td>120.0</td>\n",
       "      <td>...</td>\n",
       "      <td>74.0</td>\n",
       "      <td>104.0</td>\n",
       "      <td>15.8</td>\n",
       "      <td>1.0</td>\n",
       "      <td>0.9</td>\n",
       "      <td>47.0</td>\n",
       "      <td>32.0</td>\n",
       "      <td>68.0</td>\n",
       "      <td>0</td>\n",
       "      <td>0</td>\n",
       "    </tr>\n",
       "    <tr>\n",
       "      <th>3</th>\n",
       "      <td>1</td>\n",
       "      <td>50</td>\n",
       "      <td>175</td>\n",
       "      <td>80</td>\n",
       "      <td>91.0</td>\n",
       "      <td>1.5</td>\n",
       "      <td>1.2</td>\n",
       "      <td>1.0</td>\n",
       "      <td>1.0</td>\n",
       "      <td>145.0</td>\n",
       "      <td>...</td>\n",
       "      <td>104.0</td>\n",
       "      <td>106.0</td>\n",
       "      <td>17.6</td>\n",
       "      <td>1.0</td>\n",
       "      <td>1.1</td>\n",
       "      <td>29.0</td>\n",
       "      <td>34.0</td>\n",
       "      <td>18.0</td>\n",
       "      <td>0</td>\n",
       "      <td>0</td>\n",
       "    </tr>\n",
       "    <tr>\n",
       "      <th>4</th>\n",
       "      <td>1</td>\n",
       "      <td>50</td>\n",
       "      <td>165</td>\n",
       "      <td>60</td>\n",
       "      <td>80.0</td>\n",
       "      <td>1.0</td>\n",
       "      <td>1.2</td>\n",
       "      <td>1.0</td>\n",
       "      <td>1.0</td>\n",
       "      <td>138.0</td>\n",
       "      <td>...</td>\n",
       "      <td>117.0</td>\n",
       "      <td>104.0</td>\n",
       "      <td>13.8</td>\n",
       "      <td>1.0</td>\n",
       "      <td>0.8</td>\n",
       "      <td>19.0</td>\n",
       "      <td>12.0</td>\n",
       "      <td>25.0</td>\n",
       "      <td>0</td>\n",
       "      <td>0</td>\n",
       "    </tr>\n",
       "  </tbody>\n",
       "</table>\n",
       "<p>5 rows × 24 columns</p>\n",
       "</div>"
      ],
      "text/plain": [
       "   sex  age  height  weight  waistline  sight_left  sight_right  hear_left  \\\n",
       "0    1   35     170      75       90.0         1.0          1.0        1.0   \n",
       "1    1   30     180      80       89.0         0.9          1.2        1.0   \n",
       "2    1   40     165      75       91.0         1.2          1.5        1.0   \n",
       "3    1   50     175      80       91.0         1.5          1.2        1.0   \n",
       "4    1   50     165      60       80.0         1.0          1.2        1.0   \n",
       "\n",
       "   hear_right    SBP  ...  LDL_chole  triglyceride  hemoglobin  urine_protein  \\\n",
       "0         1.0  120.0  ...      126.0          92.0        17.1            1.0   \n",
       "1         1.0  130.0  ...      148.0         121.0        15.8            1.0   \n",
       "2         1.0  120.0  ...       74.0         104.0        15.8            1.0   \n",
       "3         1.0  145.0  ...      104.0         106.0        17.6            1.0   \n",
       "4         1.0  138.0  ...      117.0         104.0        13.8            1.0   \n",
       "\n",
       "   serum_creatinine  SGOT_AST  SGOT_ALT  gamma_GTP  SMK_stat_type_cd  DRK_YN  \n",
       "0               1.0      21.0      35.0       40.0                 0       1  \n",
       "1               0.9      20.0      36.0       27.0                 1       0  \n",
       "2               0.9      47.0      32.0       68.0                 0       0  \n",
       "3               1.1      29.0      34.0       18.0                 0       0  \n",
       "4               0.8      19.0      12.0       25.0                 0       0  \n",
       "\n",
       "[5 rows x 24 columns]"
      ]
     },
     "execution_count": 12,
     "metadata": {},
     "output_type": "execute_result"
    }
   ],
   "source": [
    "df_normalized.head(5)"
   ]
  },
  {
   "cell_type": "markdown",
   "metadata": {},
   "source": [
    "### EDA"
   ]
  },
  {
   "cell_type": "code",
   "execution_count": 24,
   "metadata": {},
   "outputs": [
    {
     "data": {
      "image/png": "[encoded data removed]",
      "text/plain": [
       "<Figure size 640x480 with 1 Axes>"
      ]
     },
     "metadata": {},
     "output_type": "display_data"
    }
   ],
   "source": [
    "# Criar um DataFrame que relaciona sexo e se bebe ou nao\n",
    "subset_data = df_normalized[['sex', 'DRK_YN']]\n",
    "\n",
    "bebe = subset_data[subset_data['DRK_YN'] == 1]\n",
    "nao_bebe = subset_data[subset_data['DRK_YN'] == 0]\n",
    "\n",
    "plt.hist([bebe['sex'], nao_bebe['sex']], bins=[0, 1, 2], alpha=0.8, color=['blue', 'green'], label=['Bebe', 'Não Bebe'])\n",
    "plt.xticks([0.5, 1.5], ['Mulheres', 'Homens'])  # Definir os rótulos do eixo x\n",
    "\n",
    "plt.xlabel('Sexo')\n",
    "plt.ylabel('Contagem')\n",
    "plt.title('Distribuição de Sexo por Consumo de Álcool')\n",
    "plt.legend(prop={'size':9})\n",
    "\n",
    "plt.show()"
   ]
  },
  {
   "cell_type": "code",
   "execution_count": 31,
   "metadata": {},
   "outputs": [
    {
     "data": {
      "image/png": "[encoded data removed]",
      "text/plain": [
       "<Figure size 640x480 with 1 Axes>"
      ]
     },
     "metadata": {},
     "output_type": "display_data"
    }
   ],
   "source": [
    "# Criar um histograma de fumantes e nao fumantes\n",
    "\n",
    "# Criar um DataFrame que relaciona sexo e se fuma ou nao\n",
    "subset_data = df_normalized[['sex', 'SMK_stat_type_cd']]\n",
    "\n",
    "fuma = subset_data[subset_data['SMK_stat_type_cd'] == 1]\n",
    "nao_fuma = subset_data[subset_data['SMK_stat_type_cd'] == 0]\n",
    "\n",
    "# Criar um gráfico de barras\n",
    "categorias = ['Mulheres', 'Homens']\n",
    "\n",
    "plt.hist([fuma['sex'], nao_fuma['sex']], bins=[0, 1, 2], alpha=0.8, color=['blue', 'green'], label=['Bebe', 'Não Bebe'])\n",
    "\n",
    "plt.xlabel('Sexo')\n",
    "plt.ylabel('Número de Pessoas')\n",
    "plt.title('Distribuição de Fumantes e Não Fumantes por Sexo')\n",
    "plt.xticks([0.5, 1.5], categorias)\n",
    "plt.legend()\n",
    "plt.show()"
   ]
  },
  {
   "cell_type": "code",
   "execution_count": 32,
   "metadata": {},
   "outputs": [
    {
     "data": {
      "image/png": "[encoded data removed]",
      "text/plain": [
       "<Figure size 640x480 with 1 Axes>"
      ]
     },
     "metadata": {},
     "output_type": "display_data"
    }
   ],
   "source": [
    "# histograma de distribuição de pessoas por faixa etária\n",
    "\n",
    "faixa_etaria = [20, 25, 30, 35, 40, 45, 50, 55, 60, 65, 70]\n",
    "\n",
    "plt.hist(df_normalized['age'], bins=faixa_etaria, edgecolor='black')\n",
    "\n",
    "plt.xlabel('Idade')\n",
    "plt.ylabel('Número de Pessoas')\n",
    "plt.title('Distribuição de Pessoas por Faixa Etária')\n",
    "\n",
    "plt.show()"
   ]
  },
  {
   "cell_type": "code",
   "execution_count": 34,
   "metadata": {},
   "outputs": [
    {
     "data": {
      "image/png": "[encoded data removed]",
      "text/plain": [
       "<Figure size 640x480 with 1 Axes>"
      ]
     },
     "metadata": {},
     "output_type": "display_data"
    }
   ],
   "source": [
    "#Criar um grafico de barras para relacionar consumo de alcool com faixa etaria\n",
    "\n",
    "dados_bebe = df_normalized[df_normalized['DRK_YN'] == 1]\n",
    "\n",
    "faixa_etaria = [20, 25, 30, 35, 40, 45, 50, 55, 60, 65, 70]\n",
    "\n",
    "plt.hist(dados_bebe['age'], bins=faixa_etaria, edgecolor='black')\n",
    "\n",
    "plt.xlabel('Idade')\n",
    "plt.ylabel('Número de Pessoas que Bebem')\n",
    "plt.title('Distribuição de Consumo de Bebida por Faixa Etária')\n",
    "\n",
    "plt.show()"
   ]
  },
  {
   "cell_type": "markdown",
   "metadata": {},
   "source": [
    "### Modelagem Apriori"
   ]
  },
  {
   "cell_type": "code",
   "execution_count": 14,
   "metadata": {},
   "outputs": [],
   "source": [
    "#import apyori"
   ]
  },
  {
   "cell_type": "code",
   "execution_count": 15,
   "metadata": {},
   "outputs": [],
   "source": [
    "#celulas_preenchidas = df_normalized.notna().apply(sum, axis=1)\n",
    "\n",
    "#celulas_preenchidas"
   ]
  },
  {
   "cell_type": "code",
   "execution_count": 16,
   "metadata": {},
   "outputs": [
    {
     "data": {
      "text/plain": [
       "\" \\nregistros = [set(linha.dropna()) for _, linha in df_normalized[celulas_preenchidas > 1].iterrows()]\\nregistros[:5]\\nminsup = 0.04\\nminconf = 0.3\\n\\nregras_associacao = apyori.apriori(registros, min_support=minsup, min_confidence=minconf)\\n\\n\\nfor regra in regras_associacao:\\n  itens = list(regra.items)\\n  print(\\n      f'{itens[:-1]} --> [{itens[-1]}] Suporte: {regra.support:.3f}'\\n      f' Confianca: {regra.ordered_statistics[0].confidence:.3f}'\\n  )\\n\""
      ]
     },
     "execution_count": 16,
     "metadata": {},
     "output_type": "execute_result"
    }
   ],
   "source": [
    "\"\"\" \n",
    "registros = [set(linha.dropna()) for _, linha in df_normalized[celulas_preenchidas > 1].iterrows()]\n",
    "registros[:5]\n",
    "minsup = 0.04\n",
    "minconf = 0.3\n",
    "\n",
    "regras_associacao = apyori.apriori(registros, min_support=minsup, min_confidence=minconf)\n",
    "\n",
    "\n",
    "for regra in regras_associacao:\n",
    "  itens = list(regra.items)\n",
    "  print(\n",
    "      f'{itens[:-1]} --> [{itens[-1]}] Suporte: {regra.support:.3f}'\n",
    "      f' Confianca: {regra.ordered_statistics[0].confidence:.3f}'\n",
    "  )\n",
    "\"\"\""
   ]
  },
  {
   "cell_type": "markdown",
   "metadata": {},
   "source": [
    "### Modelagem Regressão Logística"
   ]
  },
  {
   "cell_type": "code",
   "execution_count": 17,
   "metadata": {},
   "outputs": [],
   "source": [
    "#fazendo os imports necessarios\n",
    "from sklearn.linear_model import LogisticRegression\n",
    "from sklearn.model_selection import train_test_split\n",
    "from sklearn.metrics import accuracy_score\n",
    "\n",
    "#definindo as variavels alvo\n",
    "y = df_normalized['DRK_YN']\n",
    "x = df_normalized.drop('DRK_YN',axis=1)\n",
    "\n",
    "#separando em treino e teste\n",
    "X_train, X_test, y_train, y_test = train_test_split(x,y, test_size=0.20,random_state=42)\n"
   ]
  },
  {
   "cell_type": "code",
   "execution_count": 18,
   "metadata": {},
   "outputs": [
    {
     "name": "stderr",
     "output_type": "stream",
     "text": [
      "C:\\Users\\Felipe\\AppData\\Local\\Packages\\PythonSoftwareFoundation.Python.3.11_qbz5n2kfra8p0\\LocalCache\\local-packages\\Python311\\site-packages\\sklearn\\linear_model\\_logistic.py:460: ConvergenceWarning: lbfgs failed to converge (status=1):\n",
      "STOP: TOTAL NO. of ITERATIONS REACHED LIMIT.\n",
      "\n",
      "Increase the number of iterations (max_iter) or scale the data as shown in:\n",
      "    https://scikit-learn.org/stable/modules/preprocessing.html\n",
      "Please also refer to the documentation for alternative solver options:\n",
      "    https://scikit-learn.org/stable/modules/linear_model.html#logistic-regression\n",
      "  n_iter_i = _check_optimize_result(\n"
     ]
    }
   ],
   "source": [
    "modelo_LR = LogisticRegression()\n",
    "modelo_LR.fit(X_train,y_train)\n",
    "y_pred = modelo_LR.predict(X_test)\n"
   ]
  },
  {
   "cell_type": "code",
   "execution_count": 19,
   "metadata": {},
   "outputs": [
    {
     "name": "stdout",
     "output_type": "stream",
     "text": [
      "Pontuacao obtida com X e Y de treino:  0.7075778361720693\n",
      "Pontuacao obtida com X e Y de teste:  0.7069148131336057\n",
      "Pontuacao obtida com Y da previsão e o Y real:  0.7069148131336057\n"
     ]
    }
   ],
   "source": [
    "#printando os scores obtidos\n",
    "print(\"Pontuacao obtida com X e Y de treino: \", modelo_LR.score(X_train,y_train))\n",
    "print(\"Pontuacao obtida com X e Y de teste: \", modelo_LR.score(X_test,y_test))\n",
    "print(\"Pontuacao obtida com Y da previsão e o Y real: \" , accuracy_score(y_test,y_pred))"
   ]
  },
  {
   "cell_type": "code",
   "execution_count": 20,
   "metadata": {},
   "outputs": [
    {
     "data": {
      "text/html": [
       "<div>\n",
       "<style scoped>\n",
       "    .dataframe tbody tr th:only-of-type {\n",
       "        vertical-align: middle;\n",
       "    }\n",
       "\n",
       "    .dataframe tbody tr th {\n",
       "        vertical-align: top;\n",
       "    }\n",
       "\n",
       "    .dataframe thead th {\n",
       "        text-align: right;\n",
       "    }\n",
       "</style>\n",
       "<table border=\"1\" class=\"dataframe\">\n",
       "  <thead>\n",
       "    <tr style=\"text-align: right;\">\n",
       "      <th></th>\n",
       "      <th>Feature</th>\n",
       "      <th>Importance</th>\n",
       "    </tr>\n",
       "  </thead>\n",
       "  <tbody>\n",
       "    <tr>\n",
       "      <th>16</th>\n",
       "      <td>hemoglobin</td>\n",
       "      <td>0.207651</td>\n",
       "    </tr>\n",
       "    <tr>\n",
       "      <th>22</th>\n",
       "      <td>SMK_stat_type_cd</td>\n",
       "      <td>0.207237</td>\n",
       "    </tr>\n",
       "    <tr>\n",
       "      <th>0</th>\n",
       "      <td>sex</td>\n",
       "      <td>0.184692</td>\n",
       "    </tr>\n",
       "    <tr>\n",
       "      <th>3</th>\n",
       "      <td>weight</td>\n",
       "      <td>0.056108</td>\n",
       "    </tr>\n",
       "    <tr>\n",
       "      <th>13</th>\n",
       "      <td>HDL_chole</td>\n",
       "      <td>0.020077</td>\n",
       "    </tr>\n",
       "    <tr>\n",
       "      <th>21</th>\n",
       "      <td>gamma_GTP</td>\n",
       "      <td>0.015887</td>\n",
       "    </tr>\n",
       "    <tr>\n",
       "      <th>18</th>\n",
       "      <td>serum_creatinine</td>\n",
       "      <td>0.015489</td>\n",
       "    </tr>\n",
       "    <tr>\n",
       "      <th>9</th>\n",
       "      <td>SBP</td>\n",
       "      <td>0.002687</td>\n",
       "    </tr>\n",
       "    <tr>\n",
       "      <th>19</th>\n",
       "      <td>SGOT_AST</td>\n",
       "      <td>0.001519</td>\n",
       "    </tr>\n",
       "    <tr>\n",
       "      <th>15</th>\n",
       "      <td>triglyceride</td>\n",
       "      <td>0.001225</td>\n",
       "    </tr>\n",
       "    <tr>\n",
       "      <th>5</th>\n",
       "      <td>sight_left</td>\n",
       "      <td>0.000803</td>\n",
       "    </tr>\n",
       "    <tr>\n",
       "      <th>11</th>\n",
       "      <td>BLDS</td>\n",
       "      <td>0.000659</td>\n",
       "    </tr>\n",
       "    <tr>\n",
       "      <th>12</th>\n",
       "      <td>tot_chole</td>\n",
       "      <td>-0.001094</td>\n",
       "    </tr>\n",
       "    <tr>\n",
       "      <th>6</th>\n",
       "      <td>sight_right</td>\n",
       "      <td>-0.002414</td>\n",
       "    </tr>\n",
       "    <tr>\n",
       "      <th>14</th>\n",
       "      <td>LDL_chole</td>\n",
       "      <td>-0.004003</td>\n",
       "    </tr>\n",
       "    <tr>\n",
       "      <th>10</th>\n",
       "      <td>DBP</td>\n",
       "      <td>-0.007964</td>\n",
       "    </tr>\n",
       "    <tr>\n",
       "      <th>7</th>\n",
       "      <td>hear_left</td>\n",
       "      <td>-0.012097</td>\n",
       "    </tr>\n",
       "    <tr>\n",
       "      <th>8</th>\n",
       "      <td>hear_right</td>\n",
       "      <td>-0.012466</td>\n",
       "    </tr>\n",
       "    <tr>\n",
       "      <th>20</th>\n",
       "      <td>SGOT_ALT</td>\n",
       "      <td>-0.016412</td>\n",
       "    </tr>\n",
       "    <tr>\n",
       "      <th>17</th>\n",
       "      <td>urine_protein</td>\n",
       "      <td>-0.017061</td>\n",
       "    </tr>\n",
       "    <tr>\n",
       "      <th>2</th>\n",
       "      <td>height</td>\n",
       "      <td>-0.018953</td>\n",
       "    </tr>\n",
       "    <tr>\n",
       "      <th>4</th>\n",
       "      <td>waistline</td>\n",
       "      <td>-0.030108</td>\n",
       "    </tr>\n",
       "    <tr>\n",
       "      <th>1</th>\n",
       "      <td>age</td>\n",
       "      <td>-0.035706</td>\n",
       "    </tr>\n",
       "  </tbody>\n",
       "</table>\n",
       "</div>"
      ],
      "text/plain": [
       "             Feature  Importance\n",
       "16        hemoglobin    0.207651\n",
       "22  SMK_stat_type_cd    0.207237\n",
       "0                sex    0.184692\n",
       "3             weight    0.056108\n",
       "13         HDL_chole    0.020077\n",
       "21         gamma_GTP    0.015887\n",
       "18  serum_creatinine    0.015489\n",
       "9                SBP    0.002687\n",
       "19          SGOT_AST    0.001519\n",
       "15      triglyceride    0.001225\n",
       "5         sight_left    0.000803\n",
       "11              BLDS    0.000659\n",
       "12         tot_chole   -0.001094\n",
       "6        sight_right   -0.002414\n",
       "14         LDL_chole   -0.004003\n",
       "10               DBP   -0.007964\n",
       "7          hear_left   -0.012097\n",
       "8         hear_right   -0.012466\n",
       "20          SGOT_ALT   -0.016412\n",
       "17     urine_protein   -0.017061\n",
       "2             height   -0.018953\n",
       "4          waistline   -0.030108\n",
       "1                age   -0.035706"
      ]
     },
     "execution_count": 20,
     "metadata": {},
     "output_type": "execute_result"
    }
   ],
   "source": [
    "#printando a importancia das features\n",
    "coeficients = modelo_LR.coef_[0]\n",
    "feature_names = x.columns\n",
    "feature_importance = pd.DataFrame({'Feature': feature_names, 'Importance': coeficients})\n",
    "feature_importance = feature_importance.sort_values(by='Importance', ascending=False)\n",
    "\n",
    "feature_importance"
   ]
  },
  {
   "cell_type": "code",
   "execution_count": 21,
   "metadata": {},
   "outputs": [
    {
     "data": {
      "image/png": "[encoded data removed]",
      "text/plain": [
       "<Figure size 640x480 with 1 Axes>"
      ]
     },
     "metadata": {},
     "output_type": "display_data"
    }
   ],
   "source": [
    "plt.scatter(X_test['hemoglobin'], y_test, color='black', label='Observado')\n",
    "plt.scatter(X_test['hemoglobin'], y_pred, color='red', marker='x', label='Previsto',s=10)\n",
    "plt.xlabel('X_test')\n",
    "plt.ylabel('Resultado')\n",
    "plt.legend()\n",
    "plt.title('Comparação entre Observado e Previsto')\n",
    "plt.show()"
   ]
  },
  {
   "cell_type": "markdown",
   "metadata": {},
   "source": [
    "### Modelagem Catboost"
   ]
  },
  {
   "cell_type": "code",
   "execution_count": 35,
   "metadata": {},
   "outputs": [],
   "source": [
    "# Separar features e rótulos\n",
    "X = df_normalized.drop(columns=['DRK_YN'])\n",
    "y = df_normalized['DRK_YN']\n",
    "\n",
    "X_train, X_test, y_train, y_test = train_test_split(X, y, test_size=0.2, random_state=42)\n"
   ]
  },
  {
   "cell_type": "code",
   "execution_count": 36,
   "metadata": {},
   "outputs": [
    {
     "name": "stdout",
     "output_type": "stream",
     "text": [
      "0:\tlearn: 0.6629511\ttest: 0.6628467\tbest: 0.6628467 (0)\ttotal: 205ms\tremaining: 1m 42s\n",
      "50:\tlearn: 0.5231734\ttest: 0.5235010\tbest: 0.5235010 (50)\ttotal: 3.08s\tremaining: 27.1s\n",
      "100:\tlearn: 0.5175734\ttest: 0.5181696\tbest: 0.5181696 (100)\ttotal: 6s\tremaining: 23.7s\n",
      "150:\tlearn: 0.5150509\ttest: 0.5159992\tbest: 0.5159992 (150)\ttotal: 8.81s\tremaining: 20.4s\n",
      "200:\tlearn: 0.5133075\ttest: 0.5147622\tbest: 0.5147622 (200)\ttotal: 11.8s\tremaining: 17.5s\n",
      "250:\tlearn: 0.5120684\ttest: 0.5140456\tbest: 0.5140456 (250)\ttotal: 14.9s\tremaining: 14.8s\n",
      "300:\tlearn: 0.5110673\ttest: 0.5135835\tbest: 0.5135835 (300)\ttotal: 17.9s\tremaining: 11.8s\n",
      "350:\tlearn: 0.5102119\ttest: 0.5132913\tbest: 0.5132913 (350)\ttotal: 20.7s\tremaining: 8.8s\n",
      "400:\tlearn: 0.5094463\ttest: 0.5130528\tbest: 0.5130528 (400)\ttotal: 23.6s\tremaining: 5.83s\n",
      "450:\tlearn: 0.5087512\ttest: 0.5129207\tbest: 0.5129175 (449)\ttotal: 26.7s\tremaining: 2.9s\n",
      "499:\tlearn: 0.5081207\ttest: 0.5128284\tbest: 0.5128257 (498)\ttotal: 29.6s\tremaining: 0us\n",
      "\n",
      "bestTest = 0.5128256698\n",
      "bestIteration = 498\n",
      "\n",
      "Shrink model to first 499 iterations.\n"
     ]
    },
    {
     "data": {
      "text/plain": [
       "<catboost.core.CatBoostClassifier at 0x16bfaf2ddd0>"
      ]
     },
     "execution_count": 36,
     "metadata": {},
     "output_type": "execute_result"
    }
   ],
   "source": [
    "from catboost import CatBoostClassifier\n",
    "\n",
    "model = CatBoostClassifier(iterations=500, depth=6, learning_rate=0.1, loss_function='Logloss', cat_features=[])\n",
    "\n",
    "model.fit(X_train, y_train, eval_set=(X_test, y_test), verbose=50)"
   ]
  },
  {
   "cell_type": "code",
   "execution_count": 37,
   "metadata": {},
   "outputs": [
    {
     "name": "stdout",
     "output_type": "stream",
     "text": [
      "Precisão do modelo: 0.74\n"
     ]
    }
   ],
   "source": [
    "from sklearn.metrics import accuracy_score\n",
    "\n",
    "predicoes = model.predict(X_test)\n",
    "\n",
    "precisao = accuracy_score(y_test, predicoes)\n",
    "print(f'Precisão do modelo: {precisao:.2f}')\n"
   ]
  },
  {
   "cell_type": "code",
   "execution_count": 38,
   "metadata": {},
   "outputs": [
    {
     "data": {
      "text/html": [
       "<div>\n",
       "<style scoped>\n",
       "    .dataframe tbody tr th:only-of-type {\n",
       "        vertical-align: middle;\n",
       "    }\n",
       "\n",
       "    .dataframe tbody tr th {\n",
       "        vertical-align: top;\n",
       "    }\n",
       "\n",
       "    .dataframe thead th {\n",
       "        text-align: right;\n",
       "    }\n",
       "</style>\n",
       "<table border=\"1\" class=\"dataframe\">\n",
       "  <thead>\n",
       "    <tr style=\"text-align: right;\">\n",
       "      <th></th>\n",
       "      <th>Feature</th>\n",
       "      <th>Importância</th>\n",
       "    </tr>\n",
       "  </thead>\n",
       "  <tbody>\n",
       "    <tr>\n",
       "      <th>1</th>\n",
       "      <td>age</td>\n",
       "      <td>22.527525</td>\n",
       "    </tr>\n",
       "    <tr>\n",
       "      <th>21</th>\n",
       "      <td>gamma_GTP</td>\n",
       "      <td>19.550073</td>\n",
       "    </tr>\n",
       "    <tr>\n",
       "      <th>0</th>\n",
       "      <td>sex</td>\n",
       "      <td>12.703390</td>\n",
       "    </tr>\n",
       "    <tr>\n",
       "      <th>13</th>\n",
       "      <td>HDL_chole</td>\n",
       "      <td>9.785088</td>\n",
       "    </tr>\n",
       "    <tr>\n",
       "      <th>22</th>\n",
       "      <td>SMK_stat_type_cd</td>\n",
       "      <td>9.500303</td>\n",
       "    </tr>\n",
       "    <tr>\n",
       "      <th>20</th>\n",
       "      <td>SGOT_ALT</td>\n",
       "      <td>7.680877</td>\n",
       "    </tr>\n",
       "    <tr>\n",
       "      <th>2</th>\n",
       "      <td>height</td>\n",
       "      <td>3.037309</td>\n",
       "    </tr>\n",
       "    <tr>\n",
       "      <th>19</th>\n",
       "      <td>SGOT_AST</td>\n",
       "      <td>2.830503</td>\n",
       "    </tr>\n",
       "    <tr>\n",
       "      <th>15</th>\n",
       "      <td>triglyceride</td>\n",
       "      <td>1.927252</td>\n",
       "    </tr>\n",
       "    <tr>\n",
       "      <th>14</th>\n",
       "      <td>LDL_chole</td>\n",
       "      <td>1.650996</td>\n",
       "    </tr>\n",
       "    <tr>\n",
       "      <th>16</th>\n",
       "      <td>hemoglobin</td>\n",
       "      <td>1.446148</td>\n",
       "    </tr>\n",
       "    <tr>\n",
       "      <th>10</th>\n",
       "      <td>DBP</td>\n",
       "      <td>1.247609</td>\n",
       "    </tr>\n",
       "    <tr>\n",
       "      <th>11</th>\n",
       "      <td>BLDS</td>\n",
       "      <td>1.186051</td>\n",
       "    </tr>\n",
       "    <tr>\n",
       "      <th>4</th>\n",
       "      <td>waistline</td>\n",
       "      <td>1.076739</td>\n",
       "    </tr>\n",
       "    <tr>\n",
       "      <th>18</th>\n",
       "      <td>serum_creatinine</td>\n",
       "      <td>1.004639</td>\n",
       "    </tr>\n",
       "    <tr>\n",
       "      <th>3</th>\n",
       "      <td>weight</td>\n",
       "      <td>0.985213</td>\n",
       "    </tr>\n",
       "    <tr>\n",
       "      <th>9</th>\n",
       "      <td>SBP</td>\n",
       "      <td>0.582247</td>\n",
       "    </tr>\n",
       "    <tr>\n",
       "      <th>12</th>\n",
       "      <td>tot_chole</td>\n",
       "      <td>0.549396</td>\n",
       "    </tr>\n",
       "    <tr>\n",
       "      <th>6</th>\n",
       "      <td>sight_right</td>\n",
       "      <td>0.306370</td>\n",
       "    </tr>\n",
       "    <tr>\n",
       "      <th>5</th>\n",
       "      <td>sight_left</td>\n",
       "      <td>0.226231</td>\n",
       "    </tr>\n",
       "    <tr>\n",
       "      <th>17</th>\n",
       "      <td>urine_protein</td>\n",
       "      <td>0.136400</td>\n",
       "    </tr>\n",
       "    <tr>\n",
       "      <th>7</th>\n",
       "      <td>hear_left</td>\n",
       "      <td>0.036954</td>\n",
       "    </tr>\n",
       "    <tr>\n",
       "      <th>8</th>\n",
       "      <td>hear_right</td>\n",
       "      <td>0.022687</td>\n",
       "    </tr>\n",
       "  </tbody>\n",
       "</table>\n",
       "</div>"
      ],
      "text/plain": [
       "             Feature  Importância\n",
       "1                age    22.527525\n",
       "21         gamma_GTP    19.550073\n",
       "0                sex    12.703390\n",
       "13         HDL_chole     9.785088\n",
       "22  SMK_stat_type_cd     9.500303\n",
       "20          SGOT_ALT     7.680877\n",
       "2             height     3.037309\n",
       "19          SGOT_AST     2.830503\n",
       "15      triglyceride     1.927252\n",
       "14         LDL_chole     1.650996\n",
       "16        hemoglobin     1.446148\n",
       "10               DBP     1.247609\n",
       "11              BLDS     1.186051\n",
       "4          waistline     1.076739\n",
       "18  serum_creatinine     1.004639\n",
       "3             weight     0.985213\n",
       "9                SBP     0.582247\n",
       "12         tot_chole     0.549396\n",
       "6        sight_right     0.306370\n",
       "5         sight_left     0.226231\n",
       "17     urine_protein     0.136400\n",
       "7          hear_left     0.036954\n",
       "8         hear_right     0.022687"
      ]
     },
     "execution_count": 38,
     "metadata": {},
     "output_type": "execute_result"
    }
   ],
   "source": [
    "importancias_features = model.feature_importances_\n",
    "\n",
    "nomes_features = X.columns\n",
    "\n",
    "importancias_df = pd.DataFrame(list(zip(nomes_features, importancias_features)), columns=['Feature', 'Importância'])\n",
    "\n",
    "importancias_df = importancias_df.sort_values(by='Importância', ascending=False)\n",
    "\n",
    "importancias_df"
   ]
  },
  {
   "cell_type": "code",
   "execution_count": 40,
   "metadata": {},
   "outputs": [
    {
     "data": {
      "image/png": "[encoded data removed]",
      "text/plain": [
       "<Figure size 600x600 with 1 Axes>"
      ]
     },
     "metadata": {},
     "output_type": "display_data"
    }
   ],
   "source": [
    "#calcular a matriz de confusão\n",
    "from sklearn.metrics import confusion_matrix\n",
    "\n",
    "matriz_confusao = confusion_matrix(y_test, predicoes)\n",
    "\n",
    "plt.figure(figsize=(6, 6))\n",
    "sns.heatmap(matriz_confusao, annot=True, fmt='g', cmap='Blues', cbar=False, xticklabels=['Não Fumante', 'Fumante'], yticklabels=['Não Fumante', 'Fumante'])\n",
    "plt.xlabel('Previsão')\n",
    "plt.ylabel('Verdadeiro')\n",
    "plt.title('Matriz de Confusão')\n",
    "plt.show()\n"
   ]
  }
 ],
 "metadata": {
  "kernelspec": {
   "display_name": "Python 3",
   "language": "python",
   "name": "python3"
  },
  "language_info": {
   "codemirror_mode": {
    "name": "ipython",
    "version": 3
   },
   "file_extension": ".py",
   "mimetype": "text/x-python",
   "name": "python",
   "nbconvert_exporter": "python",
   "pygments_lexer": "ipython3",
   "version": "3.11.6"
  }
 },
 "nbformat": 4,
 "nbformat_minor": 2
}
